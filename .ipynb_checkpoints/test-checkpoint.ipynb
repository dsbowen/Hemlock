{
 "cells": [
  {
   "cell_type": "markdown",
   "metadata": {},
   "source": [
    "A good tool makes simple things easy and complex things possible.\n",
    "\n",
    "If you don't know which solution is better, start with the one that's simpler."
   ]
  },
  {
   "cell_type": "code",
   "execution_count": 1,
   "metadata": {
    "ExecuteTime": {
     "end_time": "2020-07-09T14:43:43.809867Z",
     "start_time": "2020-07-09T14:43:42.212824Z"
    }
   },
   "outputs": [
    {
     "data": {
      "text/plain": [
       "<Flask 'hemlock.app'>"
      ]
     },
     "execution_count": 1,
     "metadata": {},
     "output_type": "execute_result"
    }
   ],
   "source": [
    "import os\n",
    "from yaml import load, CLoader as Loader\n",
    "\n",
    "data = load(open('env/local-env.yml'), Loader=Loader)\n",
    "os.environ.update({key: str(val) for key, val in data.items()})\n",
    "\n",
    "from hemlock import push_app_context\n",
    "\n",
    "push_app_context()"
   ]
  },
  {
   "cell_type": "code",
   "execution_count": 8,
   "metadata": {
    "ExecuteTime": {
     "end_time": "2020-07-09T15:16:50.657982Z",
     "start_time": "2020-07-09T15:16:50.504103Z"
    }
   },
   "outputs": [],
   "source": [
    "from hemlock import Input, Label, Page \n",
    "\n",
    "POT = 20\n",
    "\n",
    "def gen_proposal_page(round_):\n",
    "    return Page(Submit.data_type(\n",
    "        Validate.response_type(\n",
    "            Input(\n",
    "                '''\n",
    "                <p><b>Round {}</b></p>\n",
    "                <p>You have ${} to split between you and the responder. How \n",
    "                much money would you like to offer to the responder?</p>\n",
    "                '''.format(round_, POT),\n",
    "                prepend='$',\n",
    "                append='.00',\n",
    "                name='proposal-round-'+str(round_)\n",
    "            ),\n",
    "            int\n",
    "        ),\n",
    "        int\n",
    "    ))\n",
    "\n",
    "path = gen_proposal_page(1).preview()"
   ]
  },
  {
   "cell_type": "code",
   "execution_count": 9,
   "metadata": {
    "ExecuteTime": {
     "end_time": "2020-07-09T15:16:56.314496Z",
     "start_time": "2020-07-09T15:16:56.308006Z"
    }
   },
   "outputs": [],
   "source": [
    "os.remove(path)"
   ]
  },
  {
   "cell_type": "code",
   "execution_count": null,
   "metadata": {},
   "outputs": [],
   "source": [
    "def gen_response_page(round_):\n",
    "    return Page(Submit.data_type(\n",
    "        Validate.response_type(\n",
    "            Input(\n",
    "                '''\n",
    "                <p><b>Round <b>{}</b></p>\n",
    "                <p>The proposer has ${} to split between him/herself and you.\n",
    "                Complete this sentence:</p>\n",
    "                <p>I will accept any proposal which gives me at least _____</p>\n",
    "                ''',\n",
    "                prepend='$',\n",
    "                append='.00',\n",
    "                name='response-round-'+str(round_)\n",
    "            ),\n",
    "            int\n",
    "        ),\n",
    "        int\n",
    "    ))"
   ]
  }
 ],
 "metadata": {
  "kernelspec": {
   "display_name": "Python 3",
   "language": "python",
   "name": "python3"
  },
  "language_info": {
   "codemirror_mode": {
    "name": "ipython",
    "version": 3
   },
   "file_extension": ".py",
   "mimetype": "text/x-python",
   "name": "python",
   "nbconvert_exporter": "python",
   "pygments_lexer": "ipython3",
   "version": "3.6.8"
  },
  "toc": {
   "base_numbering": 1,
   "nav_menu": {},
   "number_sections": true,
   "sideBar": true,
   "skip_h1_title": false,
   "title_cell": "Table of Contents",
   "title_sidebar": "Contents",
   "toc_cell": false,
   "toc_position": {},
   "toc_section_display": true,
   "toc_window_display": false
  },
  "varInspector": {
   "cols": {
    "lenName": 16,
    "lenType": 16,
    "lenVar": 40
   },
   "kernels_config": {
    "python": {
     "delete_cmd_postfix": "",
     "delete_cmd_prefix": "del ",
     "library": "var_list.py",
     "varRefreshCmd": "print(var_dic_list())"
    },
    "r": {
     "delete_cmd_postfix": ") ",
     "delete_cmd_prefix": "rm(",
     "library": "var_list.r",
     "varRefreshCmd": "cat(var_dic_list()) "
    }
   },
   "types_to_exclude": [
    "module",
    "function",
    "builtin_function_or_method",
    "instance",
    "_Feature"
   ],
   "window_display": false
  }
 },
 "nbformat": 4,
 "nbformat_minor": 4
}
