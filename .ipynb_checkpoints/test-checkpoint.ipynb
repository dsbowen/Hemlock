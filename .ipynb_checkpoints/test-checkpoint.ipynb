{
 "cells": [
  {
   "cell_type": "markdown",
   "metadata": {},
   "source": [
    "A good tool makes simple things easy and complex things possible.\n",
    "\n",
    "If you don't know which solution is better, start with the one that's simpler."
   ]
  },
  {
   "cell_type": "code",
   "execution_count": 1,
   "metadata": {
    "ExecuteTime": {
     "end_time": "2020-07-07T20:43:51.034835Z",
     "start_time": "2020-07-07T20:43:49.394292Z"
    }
   },
   "outputs": [
    {
     "data": {
      "text/plain": [
       "<Flask 'hemlock.app'>"
      ]
     },
     "execution_count": 1,
     "metadata": {},
     "output_type": "execute_result"
    }
   ],
   "source": [
    "import os\n",
    "from yaml import load, CLoader as Loader\n",
    "\n",
    "data = load(open('env/local-env.yml'), Loader=Loader)\n",
    "os.environ.update({key: str(val) for key, val in data.items()})\n",
    "\n",
    "from hemlock import push_app_context\n",
    "\n",
    "push_app_context()"
   ]
  },
  {
   "cell_type": "code",
   "execution_count": 2,
   "metadata": {
    "ExecuteTime": {
     "end_time": "2020-07-07T20:43:51.339505Z",
     "start_time": "2020-07-07T20:43:51.037638Z"
    },
    "scrolled": true
   },
   "outputs": [
    {
     "data": {
      "text/plain": [
       "<Page 5>"
      ]
     },
     "execution_count": 2,
     "metadata": {},
     "output_type": "execute_result"
    }
   ],
   "source": [
    "from hemlock import Check, Input, Page, Label, Range, Select\n",
    "\n",
    "Page(\n",
    "    Input('<p>Please enter your age.</p>'),\n",
    "    Check(\n",
    "        '<p>Please indicate your gender.</p>',\n",
    "        ['Male', 'Female', 'Other']\n",
    "    ),\n",
    "    Check(\n",
    "        '<p>Please indicate your ethnicity. Check as many as apply.</p>',\n",
    "        [\n",
    "            'White',\n",
    "            'Black or African-American',\n",
    "            'Asian',\n",
    "            'Native Hawaiian or other Pacific Islander',\n",
    "            'Other',\n",
    "        ],\n",
    "        multiple=True\n",
    "    ),\n",
    "    Select(\n",
    "        '<p>Please select your current marital status.</p>',\n",
    "        [\n",
    "            'Married',\n",
    "            'Widowed',\n",
    "            'Divorced',\n",
    "            'Separated',\n",
    "            'Never married',\n",
    "        ]\n",
    "    ),\n",
    "    Range(\n",
    "        '''\n",
    "        <p>At the right end of the scale are the people who are the \n",
    "        best off; those who have the most money, the most \n",
    "        education, and the best jobs. On the left are the people \n",
    "        who are the worst off; those who have the least money, the \n",
    "        least education, and the worst jobs (or are unemployed). \n",
    "        Please indicate where you think you stand on this scale.</p>\n",
    "        ''',\n",
    "        min=0, max=10\n",
    "    ),\n",
    ").preview('Ubuntu')"
   ]
  },
  {
   "cell_type": "code",
   "execution_count": null,
   "metadata": {},
   "outputs": [],
   "source": []
  }
 ],
 "metadata": {
  "kernelspec": {
   "display_name": "Python 3",
   "language": "python",
   "name": "python3"
  },
  "language_info": {
   "codemirror_mode": {
    "name": "ipython",
    "version": 3
   },
   "file_extension": ".py",
   "mimetype": "text/x-python",
   "name": "python",
   "nbconvert_exporter": "python",
   "pygments_lexer": "ipython3",
   "version": "3.6.8"
  },
  "toc": {
   "base_numbering": 1,
   "nav_menu": {},
   "number_sections": true,
   "sideBar": true,
   "skip_h1_title": false,
   "title_cell": "Table of Contents",
   "title_sidebar": "Contents",
   "toc_cell": false,
   "toc_position": {},
   "toc_section_display": true,
   "toc_window_display": false
  },
  "varInspector": {
   "cols": {
    "lenName": 16,
    "lenType": 16,
    "lenVar": 40
   },
   "kernels_config": {
    "python": {
     "delete_cmd_postfix": "",
     "delete_cmd_prefix": "del ",
     "library": "var_list.py",
     "varRefreshCmd": "print(var_dic_list())"
    },
    "r": {
     "delete_cmd_postfix": ") ",
     "delete_cmd_prefix": "rm(",
     "library": "var_list.r",
     "varRefreshCmd": "cat(var_dic_list()) "
    }
   },
   "types_to_exclude": [
    "module",
    "function",
    "builtin_function_or_method",
    "instance",
    "_Feature"
   ],
   "window_display": false
  }
 },
 "nbformat": 4,
 "nbformat_minor": 4
}
