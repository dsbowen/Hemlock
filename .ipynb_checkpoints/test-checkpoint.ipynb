{
 "cells": [
  {
   "cell_type": "code",
   "execution_count": 16,
   "metadata": {
    "ExecuteTime": {
     "end_time": "2020-06-29T15:10:58.890078Z",
     "start_time": "2020-06-29T15:10:58.875055Z"
    }
   },
   "outputs": [],
   "source": [
    "from itertools import combinations, cycle, permutations, product\n",
    "from operator import itemgetter\n",
    "from random import shuffle\n",
    "    \n",
    "class Randomizer():\n",
    "    def __init__(self, elements, r=1, combination=True):\n",
    "        self.elements = elements\n",
    "        idx = list(range(len(elements)))\n",
    "        iter_ = combinations(idx, r) if combination else permutations(idx, r)\n",
    "        iter_ = list(iter_)\n",
    "        shuffle(iter_)\n",
    "        self.iter = cycle(iter_)\n",
    "        \n",
    "    def next(self):\n",
    "        return itemgetter(*next(self.iter))(self.elements)\n",
    "        \n",
    "class Conditions(Randomizer):\n",
    "    def __init__(self, conditions):\n",
    "        self.keys = conditions.keys()\n",
    "        super().__init__(tuple(product(*conditions.values())))\n",
    "        \n",
    "    def next(self):\n",
    "        assignment = super().next()\n",
    "        return {key: val for key, val in zip(self.keys, assignment)}\n",
    "        \n",
    "    \n",
    "def gen_conditions(conditions):\n",
    "    print('hello world')\n",
    "    return conditions"
   ]
  },
  {
   "cell_type": "code",
   "execution_count": 17,
   "metadata": {
    "ExecuteTime": {
     "end_time": "2020-06-29T15:10:59.331483Z",
     "start_time": "2020-06-29T15:10:59.322092Z"
    }
   },
   "outputs": [
    {
     "name": "stdout",
     "output_type": "stream",
     "text": [
      "('goodbye', 'hello')\n",
      "('hello', 'moon')\n",
      "('moon', 'goodbye')\n",
      "('goodbye', 'world')\n",
      "('world', 'hello')\n",
      "('hello', 'goodbye')\n",
      "('world', 'moon')\n",
      "('goodbye', 'moon')\n",
      "('moon', 'hello')\n",
      "('hello', 'world')\n",
      "('world', 'goodbye')\n",
      "('moon', 'world')\n",
      "('goodbye', 'hello')\n",
      "('hello', 'moon')\n",
      "('moon', 'goodbye')\n",
      "('goodbye', 'world')\n",
      "('world', 'hello')\n",
      "('hello', 'goodbye')\n",
      "('world', 'moon')\n",
      "('goodbye', 'moon')\n"
     ]
    }
   ],
   "source": [
    "elements = ('hello','world','goodbye','moon')\n",
    "randomizer = Randomizer(elements, r=2, combination=False)\n",
    "for i in range(20):\n",
    "    print(randomizer.next())"
   ]
  },
  {
   "cell_type": "code",
   "execution_count": 19,
   "metadata": {
    "ExecuteTime": {
     "end_time": "2020-06-29T15:11:49.497729Z",
     "start_time": "2020-06-29T15:11:49.485596Z"
    }
   },
   "outputs": [
    {
     "name": "stdout",
     "output_type": "stream",
     "text": [
      "{'c0': 1, 'c1': 'high'}\n",
      "{'c0': 0, 'c1': 'med'}\n",
      "{'c0': 0, 'c1': 'low'}\n",
      "{'c0': 1, 'c1': 'low'}\n",
      "{'c0': 1, 'c1': 'med'}\n",
      "{'c0': 0, 'c1': 'high'}\n",
      "{'c0': 1, 'c1': 'high'}\n",
      "{'c0': 0, 'c1': 'med'}\n",
      "{'c0': 0, 'c1': 'low'}\n",
      "{'c0': 1, 'c1': 'low'}\n",
      "{'c0': 1, 'c1': 'med'}\n",
      "{'c0': 0, 'c1': 'high'}\n",
      "{'c0': 1, 'c1': 'high'}\n",
      "{'c0': 0, 'c1': 'med'}\n",
      "{'c0': 0, 'c1': 'low'}\n",
      "{'c0': 1, 'c1': 'low'}\n",
      "{'c0': 1, 'c1': 'med'}\n",
      "{'c0': 0, 'c1': 'high'}\n",
      "{'c0': 1, 'c1': 'high'}\n",
      "{'c0': 0, 'c1': 'med'}\n"
     ]
    }
   ],
   "source": [
    "conditions = Conditions({'c0': (0,1), 'c1': ('low','med','high')})\n",
    "for i in range(20):\n",
    "    print(conditions.next())"
   ]
  },
  {
   "cell_type": "code",
   "execution_count": null,
   "metadata": {},
   "outputs": [],
   "source": []
  }
 ],
 "metadata": {
  "kernelspec": {
   "display_name": "Python 3",
   "language": "python",
   "name": "python3"
  },
  "language_info": {
   "codemirror_mode": {
    "name": "ipython",
    "version": 3
   },
   "file_extension": ".py",
   "mimetype": "text/x-python",
   "name": "python",
   "nbconvert_exporter": "python",
   "pygments_lexer": "ipython3",
   "version": "3.6.8"
  },
  "toc": {
   "base_numbering": 1,
   "nav_menu": {},
   "number_sections": true,
   "sideBar": true,
   "skip_h1_title": false,
   "title_cell": "Table of Contents",
   "title_sidebar": "Contents",
   "toc_cell": false,
   "toc_position": {},
   "toc_section_display": true,
   "toc_window_display": false
  },
  "varInspector": {
   "cols": {
    "lenName": 16,
    "lenType": 16,
    "lenVar": 40
   },
   "kernels_config": {
    "python": {
     "delete_cmd_postfix": "",
     "delete_cmd_prefix": "del ",
     "library": "var_list.py",
     "varRefreshCmd": "print(var_dic_list())"
    },
    "r": {
     "delete_cmd_postfix": ") ",
     "delete_cmd_prefix": "rm(",
     "library": "var_list.r",
     "varRefreshCmd": "cat(var_dic_list()) "
    }
   },
   "types_to_exclude": [
    "module",
    "function",
    "builtin_function_or_method",
    "instance",
    "_Feature"
   ],
   "window_display": false
  }
 },
 "nbformat": 4,
 "nbformat_minor": 4
}
