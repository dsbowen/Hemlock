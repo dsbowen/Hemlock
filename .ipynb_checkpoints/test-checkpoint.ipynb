{
 "cells": [
  {
   "cell_type": "markdown",
   "metadata": {},
   "source": [
    "A good tool makes simple things easy and complex things possible.\n",
    "\n",
    "If you don't know which solution is better, start with the one that's simpler."
   ]
  },
  {
   "cell_type": "code",
   "execution_count": 1,
   "metadata": {
    "ExecuteTime": {
     "end_time": "2020-07-03T23:35:46.590850Z",
     "start_time": "2020-07-03T23:35:44.789579Z"
    },
    "scrolled": true
   },
   "outputs": [
    {
     "name": "stderr",
     "output_type": "stream",
     "text": [
      "19:35:46: Server initialized for eventlet.\n"
     ]
    },
    {
     "data": {
      "text/plain": [
       "<Page 7>"
      ]
     },
     "execution_count": 1,
     "metadata": {},
     "output_type": "execute_result"
    }
   ],
   "source": [
    "from hemlock import Branch, Compile, Input, Label, Navigate, Page, Participant, push_app_context, route\n",
    "\n",
    "@route('/survey')\n",
    "def start():\n",
    "    name_input = Input(\"<p>What's your name?</p>\")\n",
    "    return Branch([\n",
    "        Page([name_input]),\n",
    "        Page([Compile.greet(Label(), name_input)])\n",
    "    ])\n",
    "    \n",
    "@Compile.register\n",
    "def greet(greet_label, name_input):\n",
    "    greet_label.label = '<p>Hello {}</p>'.format(name_input.response)\n",
    "    \n",
    "app = push_app_context()\n",
    "\n",
    "branch = start()\n",
    "branch.pages[0].questions[0].response = 'Sarah'\n",
    "branch.pages[1]._compile().preview('Ubuntu')"
   ]
  },
  {
   "cell_type": "code",
   "execution_count": 2,
   "metadata": {
    "ExecuteTime": {
     "end_time": "2020-07-03T23:35:47.205399Z",
     "start_time": "2020-07-03T23:35:46.598088Z"
    }
   },
   "outputs": [
    {
     "name": "stderr",
     "output_type": "stream",
     "text": [
      "19:35:46: emitting event \"json\" to all [/participants-nsp]\n"
     ]
    },
    {
     "name": "stdout",
     "output_type": "stream",
     "text": [
      " <Branch 7>\n",
      " <Page 8> C \n",
      " <Page 9>  \n",
      "\n",
      " C = current page \n",
      " T = terminal page\n",
      "\n",
      " <Branch 7>\n",
      " <Page 8>  \n",
      " <Page 9> C \n",
      "\n",
      " C = current page \n",
      " T = terminal page\n",
      "\n",
      " <Branch 7>\n",
      " <Page 8> C \n",
      " <Page 9>  \n",
      "\n",
      " C = current page \n",
      " T = terminal page\n",
      "\n",
      " <Branch 7>\n",
      " <Page 8>  \n",
      " <Page 9> C \n",
      "\n",
      " C = current page \n",
      " T = terminal page\n",
      "\n"
     ]
    },
    {
     "data": {
      "text/plain": [
       "<Participant 22>"
      ]
     },
     "execution_count": 2,
     "metadata": {},
     "output_type": "execute_result"
    }
   ],
   "source": [
    "part = Participant.gen_test_participant(start)\n",
    "part.view_nav().forward().view_nav().back().view_nav().forward().view_nav()"
   ]
  },
  {
   "cell_type": "code",
   "execution_count": null,
   "metadata": {},
   "outputs": [],
   "source": []
  }
 ],
 "metadata": {
  "kernelspec": {
   "display_name": "Python 3",
   "language": "python",
   "name": "python3"
  },
  "language_info": {
   "codemirror_mode": {
    "name": "ipython",
    "version": 3
   },
   "file_extension": ".py",
   "mimetype": "text/x-python",
   "name": "python",
   "nbconvert_exporter": "python",
   "pygments_lexer": "ipython3",
   "version": "3.6.8"
  },
  "toc": {
   "base_numbering": 1,
   "nav_menu": {},
   "number_sections": true,
   "sideBar": true,
   "skip_h1_title": false,
   "title_cell": "Table of Contents",
   "title_sidebar": "Contents",
   "toc_cell": false,
   "toc_position": {},
   "toc_section_display": true,
   "toc_window_display": false
  },
  "varInspector": {
   "cols": {
    "lenName": 16,
    "lenType": 16,
    "lenVar": 40
   },
   "kernels_config": {
    "python": {
     "delete_cmd_postfix": "",
     "delete_cmd_prefix": "del ",
     "library": "var_list.py",
     "varRefreshCmd": "print(var_dic_list())"
    },
    "r": {
     "delete_cmd_postfix": ") ",
     "delete_cmd_prefix": "rm(",
     "library": "var_list.r",
     "varRefreshCmd": "cat(var_dic_list()) "
    }
   },
   "types_to_exclude": [
    "module",
    "function",
    "builtin_function_or_method",
    "instance",
    "_Feature"
   ],
   "window_display": false
  }
 },
 "nbformat": 4,
 "nbformat_minor": 4
}
