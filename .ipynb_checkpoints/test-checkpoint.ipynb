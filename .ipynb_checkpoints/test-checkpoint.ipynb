{
 "cells": [
  {
   "cell_type": "markdown",
   "metadata": {},
   "source": [
    "A good tool makes simple things easy and complex things possible.\n",
    "\n",
    "If you don't know which solution is better, start with the one that's simpler."
   ]
  },
  {
   "cell_type": "code",
   "execution_count": 1,
   "metadata": {
    "ExecuteTime": {
     "end_time": "2020-07-02T21:47:12.641645Z",
     "start_time": "2020-07-02T21:46:58.034164Z"
    }
   },
   "outputs": [
    {
     "name": "stderr",
     "output_type": "stream",
     "text": [
      "17:47:12: Server initialized for eventlet.\n"
     ]
    },
    {
     "name": "stdout",
     "output_type": "stream",
     "text": [
      "submit\n"
     ]
    }
   ],
   "source": [
    "from hemlock import Input, Page, push_app_context\n",
    "\n",
    "push_app_context()\n",
    "\n",
    "p = Page()\n",
    "Input(p)"
   ]
  },
  {
   "cell_type": "code",
   "execution_count": 2,
   "metadata": {
    "ExecuteTime": {
     "end_time": "2020-07-02T21:45:13.937702Z",
     "start_time": "2020-07-02T21:45:13.885463Z"
    }
   },
   "outputs": [],
   "source": [
    "import tempfile\n",
    "import os\n",
    "\n",
    "_, path = tempfile.mkstemp(suffix='.html')\n",
    "soup = p._render(as_str=False)\n",
    "p._convert_rel_paths(soup, 'href', 'Ubuntu')\n",
    "p._convert_rel_paths(soup, 'src', 'Ubuntu')\n",
    "with open(path, 'w') as f:\n",
    "    f.write(str(soup))\n",
    "path = 'wsl$/'+ 'Ubuntu' + path if 'Ubuntu' else os.path.realpath(path)"
   ]
  },
  {
   "cell_type": "code",
   "execution_count": 3,
   "metadata": {
    "ExecuteTime": {
     "end_time": "2020-07-02T21:45:13.950018Z",
     "start_time": "2020-07-02T21:45:13.943583Z"
    }
   },
   "outputs": [
    {
     "data": {
      "text/plain": [
       "'wsl$/Ubuntu/tmp/tmpqjklker0.html'"
      ]
     },
     "execution_count": 3,
     "metadata": {},
     "output_type": "execute_result"
    }
   ],
   "source": [
    "path"
   ]
  },
  {
   "cell_type": "code",
   "execution_count": 7,
   "metadata": {
    "ExecuteTime": {
     "end_time": "2020-07-02T21:46:15.875690Z",
     "start_time": "2020-07-02T21:46:10.937599Z"
    }
   },
   "outputs": [],
   "source": [
    "from hemlock.tools import chromedriver\n",
    "\n",
    "driver = chromedriver()\n",
    "driver.get('file://'+path)"
   ]
  },
  {
   "cell_type": "code",
   "execution_count": 8,
   "metadata": {
    "ExecuteTime": {
     "end_time": "2020-07-02T21:46:19.389242Z",
     "start_time": "2020-07-02T21:46:19.382272Z"
    }
   },
   "outputs": [],
   "source": [
    "p._debug(driver)"
   ]
  },
  {
   "cell_type": "code",
   "execution_count": 9,
   "metadata": {
    "ExecuteTime": {
     "end_time": "2020-07-02T21:46:27.793529Z",
     "start_time": "2020-07-02T21:46:27.483539Z"
    }
   },
   "outputs": [],
   "source": [
    "driver.close()"
   ]
  },
  {
   "cell_type": "code",
   "execution_count": null,
   "metadata": {},
   "outputs": [],
   "source": []
  }
 ],
 "metadata": {
  "kernelspec": {
   "display_name": "Python 3",
   "language": "python",
   "name": "python3"
  },
  "toc": {
   "base_numbering": 1,
   "nav_menu": {},
   "number_sections": true,
   "sideBar": true,
   "skip_h1_title": false,
   "title_cell": "Table of Contents",
   "title_sidebar": "Contents",
   "toc_cell": false,
   "toc_position": {},
   "toc_section_display": true,
   "toc_window_display": false
  },
  "varInspector": {
   "cols": {
    "lenName": 16,
    "lenType": 16,
    "lenVar": 40
   },
   "kernels_config": {
    "python": {
     "delete_cmd_postfix": "",
     "delete_cmd_prefix": "del ",
     "library": "var_list.py",
     "varRefreshCmd": "print(var_dic_list())"
    },
    "r": {
     "delete_cmd_postfix": ") ",
     "delete_cmd_prefix": "rm(",
     "library": "var_list.r",
     "varRefreshCmd": "cat(var_dic_list()) "
    }
   },
   "types_to_exclude": [
    "module",
    "function",
    "builtin_function_or_method",
    "instance",
    "_Feature"
   ],
   "window_display": false
  }
 },
 "nbformat": 4,
 "nbformat_minor": 4
}
