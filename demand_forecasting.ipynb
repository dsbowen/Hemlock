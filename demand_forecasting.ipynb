{
 "cells": [
  {
   "cell_type": "code",
   "execution_count": null,
   "metadata": {},
   "outputs": [],
   "source": [
    "import matplotlib.pyplot as plt\n",
    "import numpy as np\n",
    "from scipy.integrate import quad\n",
    "\n",
    "import math"
   ]
  },
  {
   "cell_type": "code",
   "execution_count": null,
   "metadata": {},
   "outputs": [],
   "source": [
    "from scipy.stats import norm\n",
    "\n",
    "norm_err = norm(0, 1).rvs(100)\n",
    "\n",
    "class TimeSeries():\n",
    "    def __init__(self, mu=0, rho=0, trend=lambda t: 0, season=[], sigma_eps=lambda x_t, t: 1, error_dist=norm_err):\n",
    "        self.mu = mu\n",
    "        self.rho = rho\n",
    "        self.trend = trend\n",
    "        self.season = season\n",
    "        self.sigma_eps = sigma_eps\n",
    "        self.error_dist = error_dist / error_dist.std()\n",
    "        \n",
    "    def get_trial(self, T, t=1, num=1000):\n",
    "        series, error = self.simulate(T)\n",
    "        forecast = self.forecast(t, start=len(series), x0=series[-1], e0=error[-1], num=num)\n",
    "        return series, forecast, np.random.choice(forecast)\n",
    "        \n",
    "    def simulate(self, T, start=0, x0=None, e0=0):\n",
    "        def step(t, x0, e0):\n",
    "            x_s = series[-1] if series else x0\n",
    "            e_s = error[-1] if error else e0\n",
    "            error.append(self.rho * e_s + self.error(x_s, t))\n",
    "            series.append(\n",
    "                self.mu # mean\n",
    "                + self.trend(t) # trend\n",
    "                + (self.season[t%len(self.season)-1] if self.season else 0) # seasonality\n",
    "                + error[-1] # error\n",
    "            )\n",
    "        \n",
    "        x0 = x0 if x0 is not None else self.mu\n",
    "        series = []\n",
    "        error = []\n",
    "        [step(start+t, x0, e0) for t in range(1, T+1)]\n",
    "        return series, error\n",
    "        \n",
    "    def error(self, x_s, t):\n",
    "        sigma_eps = self.sigma_eps(x_s, t)\n",
    "        return np.random.choice(self.error_dist * sigma_eps)\n",
    "    \n",
    "    def forecast(self, t=1, start=0, x0=None, e0=0, num=1000):\n",
    "        return [self.simulate(t, start, x0=x0, e0=e0)[0][-1] for _ in range(num)]\n",
    "    \n",
    "def sin(wavelength, amp, start=0):\n",
    "    series = amp * np.sin(np.linspace(0, 2*math.pi, num=wavelength))\n",
    "    return list(np.append(series[start:], series[:start]))\n",
    "    \n",
    "timeseries = TimeSeries(rho=1, sigma_eps=lambda x_s, t: 4)\n",
    "series, forecast, realization = timeseries.get_trial(20)\n",
    "plt.plot(series)\n",
    "plt.show()\n",
    "plt.hist(forecast, density=True)\n",
    "plt.show()\n",
    "print('Realization', realization)"
   ]
  }
 ],
 "metadata": {
  "kernelspec": {
   "display_name": "hemlock-venv",
   "language": "python",
   "name": "hemlock-venv"
  },
  "language_info": {
   "codemirror_mode": {
    "name": "ipython",
    "version": 3
   },
   "file_extension": ".py",
   "mimetype": "text/x-python",
   "name": "python",
   "nbconvert_exporter": "python",
   "pygments_lexer": "ipython3",
   "version": "3.6.8"
  },
  "toc": {
   "base_numbering": 1,
   "nav_menu": {},
   "number_sections": true,
   "sideBar": true,
   "skip_h1_title": false,
   "title_cell": "Table of Contents",
   "title_sidebar": "Contents",
   "toc_cell": false,
   "toc_position": {},
   "toc_section_display": true,
   "toc_window_display": false
  },
  "varInspector": {
   "cols": {
    "lenName": 16,
    "lenType": 16,
    "lenVar": 40
   },
   "kernels_config": {
    "python": {
     "delete_cmd_postfix": "",
     "delete_cmd_prefix": "del ",
     "library": "var_list.py",
     "varRefreshCmd": "print(var_dic_list())"
    },
    "r": {
     "delete_cmd_postfix": ") ",
     "delete_cmd_prefix": "rm(",
     "library": "var_list.r",
     "varRefreshCmd": "cat(var_dic_list()) "
    }
   },
   "types_to_exclude": [
    "module",
    "function",
    "builtin_function_or_method",
    "instance",
    "_Feature"
   ],
   "window_display": false
  }
 },
 "nbformat": 4,
 "nbformat_minor": 4
}
