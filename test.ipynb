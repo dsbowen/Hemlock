{
 "cells": [
  {
   "cell_type": "markdown",
   "metadata": {},
   "source": [
    "A good tool makes simple things easy and complex things possible.\n",
    "\n",
    "If you don't know which solution is better, start with the one that's simpler."
   ]
  },
  {
   "cell_type": "code",
   "execution_count": 1,
   "metadata": {
    "ExecuteTime": {
     "end_time": "2020-07-08T22:29:15.014735Z",
     "start_time": "2020-07-08T22:29:13.550874Z"
    }
   },
   "outputs": [
    {
     "data": {
      "text/plain": [
       "<Flask 'hemlock.app'>"
      ]
     },
     "execution_count": 1,
     "metadata": {},
     "output_type": "execute_result"
    }
   ],
   "source": [
    "import os\n",
    "from yaml import load, CLoader as Loader\n",
    "\n",
    "data = load(open('env/local-env.yml'), Loader=Loader)\n",
    "os.environ.update({key: str(val) for key, val in data.items()})\n",
    "\n",
    "from hemlock import push_app_context\n",
    "\n",
    "push_app_context()"
   ]
  },
  {
   "cell_type": "code",
   "execution_count": 12,
   "metadata": {
    "ExecuteTime": {
     "end_time": "2020-07-08T22:42:06.571168Z",
     "start_time": "2020-07-08T22:42:06.493864Z"
    }
   },
   "outputs": [
    {
     "name": "stdout",
     "output_type": "stream",
     "text": [
      "(13, 7)\n"
     ]
    }
   ],
   "source": [
    "from hemlock import Compile, Input, Label, Page, Submit\n",
    "\n",
    "from random import randint\n",
    "\n",
    "POT = 20\n",
    "\n",
    "def gen_check_page(accept):\n",
    "    return Compile.clear_response(Compile.random_proposal(\n",
    "        Page(\n",
    "            Label(),\n",
    "            Input(\n",
    "                '<p>How much money does the proposer receive?</p>',\n",
    "                prepend='$',\n",
    "                append='.00'\n",
    "            ),\n",
    "            Input(\n",
    "                '<p>How much money does the responder receive?</p>',\n",
    "                prepend='$',\n",
    "                append='.00'\n",
    "            )\n",
    "        ),\n",
    "        accept=accept\n",
    "    ))\n",
    "\n",
    "@Compile.register\n",
    "def random_proposal(page, accept):\n",
    "    # randomly generate a proposed split and response\n",
    "    n = randint(1, POT-1)\n",
    "    proposal = n, POT-n\n",
    "    response = randint(0, POT-n-1) if accept else randint(POT-n, POT)\n",
    "    # compute the payoff\n",
    "    payoff = proposal if response<=proposal[1] else (0, 0)\n",
    "    # describe the proposal and response in the label\n",
    "    page.questions[0].label = '''\n",
    "    <p>Imagine the proposer proposes the following split:</p>\n",
    "    <ul>\n",
    "       <li>Proposer: ${}</li>\n",
    "       <li>Responder: ${}</li>\n",
    "    </ul>\n",
    "    <p>The responder says, \"I will accept any proposal which gives \n",
    "    me at least ${}.\"</p>\n",
    "    '''.format(*proposal, response)\n",
    "    # add submit functions to verify that the response was correct\n",
    "    page.questions[1].submit_functions.clear()\n",
    "    Submit.match(page.questions[1], str(payoff[0]))\n",
    "    page.questions[2].submit_functions.clear()\n",
    "    Submit.match(page.questions[2], str(payoff[1]))\n",
    "\n",
    "page = gen_check_page(accept=True)\n",
    "path = page._compile()#.preview()"
   ]
  },
  {
   "cell_type": "code",
   "execution_count": 9,
   "metadata": {
    "ExecuteTime": {
     "end_time": "2020-07-08T22:31:23.997915Z",
     "start_time": "2020-07-08T22:31:23.992636Z"
    }
   },
   "outputs": [],
   "source": [
    "os.remove(path)"
   ]
  },
  {
   "cell_type": "code",
   "execution_count": null,
   "metadata": {},
   "outputs": [],
   "source": []
  }
 ],
 "metadata": {
  "kernelspec": {
   "display_name": "Python 3",
   "language": "python",
   "name": "python3"
  },
  "language_info": {
   "codemirror_mode": {
    "name": "ipython",
    "version": 3
   },
   "file_extension": ".py",
   "mimetype": "text/x-python",
   "name": "python",
   "nbconvert_exporter": "python",
   "pygments_lexer": "ipython3",
   "version": "3.6.8"
  },
  "toc": {
   "base_numbering": 1,
   "nav_menu": {},
   "number_sections": true,
   "sideBar": true,
   "skip_h1_title": false,
   "title_cell": "Table of Contents",
   "title_sidebar": "Contents",
   "toc_cell": false,
   "toc_position": {},
   "toc_section_display": true,
   "toc_window_display": false
  },
  "varInspector": {
   "cols": {
    "lenName": 16,
    "lenType": 16,
    "lenVar": 40
   },
   "kernels_config": {
    "python": {
     "delete_cmd_postfix": "",
     "delete_cmd_prefix": "del ",
     "library": "var_list.py",
     "varRefreshCmd": "print(var_dic_list())"
    },
    "r": {
     "delete_cmd_postfix": ") ",
     "delete_cmd_prefix": "rm(",
     "library": "var_list.r",
     "varRefreshCmd": "cat(var_dic_list()) "
    }
   },
   "types_to_exclude": [
    "module",
    "function",
    "builtin_function_or_method",
    "instance",
    "_Feature"
   ],
   "window_display": false
  }
 },
 "nbformat": 4,
 "nbformat_minor": 4
}
