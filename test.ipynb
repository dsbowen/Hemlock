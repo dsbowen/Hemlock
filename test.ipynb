{
 "cells": [
  {
   "cell_type": "code",
   "execution_count": 22,
   "metadata": {
    "ExecuteTime": {
     "end_time": "2020-06-29T15:27:19.687308Z",
     "start_time": "2020-06-29T15:27:19.673774Z"
    }
   },
   "outputs": [],
   "source": [
    "from itertools import combinations, cycle, permutations, product\n",
    "from operator import itemgetter\n",
    "from random import shuffle\n",
    "    \n",
    "class Randomizer():\n",
    "    def __init__(self, elements, r=1, combination=True):\n",
    "        self.elements = elements\n",
    "        idx = list(range(len(elements)))\n",
    "        iter_ = combinations(idx, r) if combination else permutations(idx, r)\n",
    "        iter_ = list(iter_)\n",
    "        shuffle(iter_)\n",
    "        self.iter = cycle(iter_)\n",
    "        \n",
    "    def next(self):\n",
    "        return itemgetter(*next(self.iter))(self.elements)\n",
    "        \n",
    "class Assigner(Randomizer):\n",
    "    def __init__(self, conditions):\n",
    "        self.keys = conditions.keys()\n",
    "        super().__init__(tuple(product(*conditions.values())))\n",
    "        \n",
    "    def next(self):\n",
    "        assignment = super().next()\n",
    "        return {key: val for key, val in zip(self.keys, assignment)}\n",
    "        \n",
    "    \n",
    "def gen_conditions(conditions):\n",
    "    print('hello world')\n",
    "    return conditions"
   ]
  },
  {
   "cell_type": "code",
   "execution_count": 23,
   "metadata": {
    "ExecuteTime": {
     "end_time": "2020-06-29T15:27:20.899450Z",
     "start_time": "2020-06-29T15:27:20.893258Z"
    }
   },
   "outputs": [
    {
     "data": {
      "text/plain": [
       "('star', 'world')"
      ]
     },
     "execution_count": 23,
     "metadata": {},
     "output_type": "execute_result"
    }
   ],
   "source": [
    "elements = ('world','moon','star')\n",
    "randomizer = Randomizer(elements, r=2, combination=False)\n",
    "randomizer.next()"
   ]
  },
  {
   "cell_type": "code",
   "execution_count": 25,
   "metadata": {
    "ExecuteTime": {
     "end_time": "2020-06-29T15:34:11.918495Z",
     "start_time": "2020-06-29T15:34:11.911052Z"
    }
   },
   "outputs": [
    {
     "data": {
      "text/plain": [
       "{'Treatment': 1, 'Level': 'low'}"
      ]
     },
     "execution_count": 25,
     "metadata": {},
     "output_type": "execute_result"
    }
   ],
   "source": [
    "conditions = {'Treatment': (0,1), 'Level': ('low','med','high')}\n",
    "assigner = Assigner(conditions)\n",
    "assigner.next()"
   ]
  },
  {
   "cell_type": "code",
   "execution_count": null,
   "metadata": {},
   "outputs": [],
   "source": []
  }
 ],
 "metadata": {
  "kernelspec": {
   "display_name": "Python 3",
   "language": "python",
   "name": "python3"
  },
  "language_info": {
   "codemirror_mode": {
    "name": "ipython",
    "version": 3
   },
   "file_extension": ".py",
   "mimetype": "text/x-python",
   "name": "python",
   "nbconvert_exporter": "python",
   "pygments_lexer": "ipython3",
   "version": "3.6.8"
  },
  "toc": {
   "base_numbering": 1,
   "nav_menu": {},
   "number_sections": true,
   "sideBar": true,
   "skip_h1_title": false,
   "title_cell": "Table of Contents",
   "title_sidebar": "Contents",
   "toc_cell": false,
   "toc_position": {},
   "toc_section_display": true,
   "toc_window_display": false
  },
  "varInspector": {
   "cols": {
    "lenName": 16,
    "lenType": 16,
    "lenVar": 40
   },
   "kernels_config": {
    "python": {
     "delete_cmd_postfix": "",
     "delete_cmd_prefix": "del ",
     "library": "var_list.py",
     "varRefreshCmd": "print(var_dic_list())"
    },
    "r": {
     "delete_cmd_postfix": ") ",
     "delete_cmd_prefix": "rm(",
     "library": "var_list.r",
     "varRefreshCmd": "cat(var_dic_list()) "
    }
   },
   "types_to_exclude": [
    "module",
    "function",
    "builtin_function_or_method",
    "instance",
    "_Feature"
   ],
   "window_display": false
  }
 },
 "nbformat": 4,
 "nbformat_minor": 4
}
