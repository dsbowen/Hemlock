{
 "cells": [
  {
   "cell_type": "markdown",
   "metadata": {},
   "source": [
    "A good tool makes simple things easy and complex things possible.\n",
    "\n",
    "If you don't know which solution is better, start with the one that's simpler."
   ]
  },
  {
   "cell_type": "code",
   "execution_count": 21,
   "metadata": {
    "ExecuteTime": {
     "end_time": "2020-07-03T18:38:52.260198Z",
     "start_time": "2020-07-03T18:38:46.969215Z"
    },
    "scrolled": true
   },
   "outputs": [
    {
     "name": "stderr",
     "output_type": "stream",
     "text": [
      "14:38:47: Server initialized for eventlet.\n"
     ]
    }
   ],
   "source": [
    "from hemlock import Check, Debug, Page, push_app_context\n",
    "from hemlock.tools import chromedriver\n",
    "\n",
    "push_app_context()\n",
    "\n",
    "driver = chromedriver()\n",
    "\n",
    "check = Check('<p>Check label</p>', ['Yes','No'], multiple=True)\n",
    "check.default = list(check.choices)\n",
    "p = Page([Debug.clear_choices(check)])\n",
    "p.debug_functions.pop()\n",
    "p.preview('Ubuntu', driver=driver)._debug(driver)"
   ]
  },
  {
   "cell_type": "code",
   "execution_count": 22,
   "metadata": {
    "ExecuteTime": {
     "end_time": "2020-07-03T18:38:58.118231Z",
     "start_time": "2020-07-03T18:38:57.725584Z"
    }
   },
   "outputs": [],
   "source": [
    "driver.close()"
   ]
  },
  {
   "cell_type": "code",
   "execution_count": null,
   "metadata": {},
   "outputs": [],
   "source": [
    "p.preview(driver=driver) # p.preview('Ubuntu', driver=driver) if running in Ubuntu/WSL"
   ]
  }
 ],
 "metadata": {
  "kernelspec": {
   "display_name": "Python 3",
   "language": "python",
   "name": "python3"
  },
  "language_info": {
   "codemirror_mode": {
    "name": "ipython",
    "version": 3
   },
   "file_extension": ".py",
   "mimetype": "text/x-python",
   "name": "python",
   "nbconvert_exporter": "python",
   "pygments_lexer": "ipython3",
   "version": "3.6.8"
  },
  "toc": {
   "base_numbering": 1,
   "nav_menu": {},
   "number_sections": true,
   "sideBar": true,
   "skip_h1_title": false,
   "title_cell": "Table of Contents",
   "title_sidebar": "Contents",
   "toc_cell": false,
   "toc_position": {},
   "toc_section_display": true,
   "toc_window_display": false
  },
  "varInspector": {
   "cols": {
    "lenName": 16,
    "lenType": 16,
    "lenVar": 40
   },
   "kernels_config": {
    "python": {
     "delete_cmd_postfix": "",
     "delete_cmd_prefix": "del ",
     "library": "var_list.py",
     "varRefreshCmd": "print(var_dic_list())"
    },
    "r": {
     "delete_cmd_postfix": ") ",
     "delete_cmd_prefix": "rm(",
     "library": "var_list.r",
     "varRefreshCmd": "cat(var_dic_list()) "
    }
   },
   "types_to_exclude": [
    "module",
    "function",
    "builtin_function_or_method",
    "instance",
    "_Feature"
   ],
   "window_display": false
  }
 },
 "nbformat": 4,
 "nbformat_minor": 4
}
