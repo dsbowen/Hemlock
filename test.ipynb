{
 "cells": [
  {
   "cell_type": "markdown",
   "metadata": {},
   "source": [
    "A good tool makes simple things easy and complex things possible.\n",
    "\n",
    "If you don't know which solution is better, start with the one that's simpler."
   ]
  },
  {
   "cell_type": "code",
   "execution_count": 1,
   "metadata": {
    "ExecuteTime": {
     "end_time": "2020-07-06T12:40:55.361772Z",
     "start_time": "2020-07-06T12:40:49.156899Z"
    },
    "scrolled": true
   },
   "outputs": [],
   "source": [
    "from hemlock import Download, Page, push_app_context\n",
    "\n",
    "push_app_context()\n",
    "\n",
    "btn = Download()"
   ]
  },
  {
   "cell_type": "code",
   "execution_count": 2,
   "metadata": {
    "ExecuteTime": {
     "end_time": "2020-07-06T12:40:55.401201Z",
     "start_time": "2020-07-06T12:40:55.366084Z"
    }
   },
   "outputs": [
    {
     "data": {
      "text/plain": [
       "<div class=\"progress position-relative\" style=\"height:25px; background-color:rgb(200,200,200); margin-top:10px; margin-bottom:10px; box-shadow:0 1px 2px rbga(0,0,0,0.25) inset;\">\n",
       "<div class=\"progress-bar\" id=\"download-11-progress-bar\" role=\"progress-bar\" style=\"transition: width .5s;\" width=\"%\">\n",
       "<div class=\"justify-content-center d-flex position-absolute w-100 align-items-center\" id=\"download-11-progress-txt\">\n",
       "</div>\n",
       "</div>\n",
       "</div>"
      ]
     },
     "execution_count": 2,
     "metadata": {},
     "output_type": "execute_result"
    }
   ],
   "source": [
    "btn.progress"
   ]
  },
  {
   "cell_type": "code",
   "execution_count": 3,
   "metadata": {
    "ExecuteTime": {
     "end_time": "2020-07-06T12:41:04.531025Z",
     "start_time": "2020-07-06T12:41:04.525164Z"
    }
   },
   "outputs": [
    {
     "data": {
      "text/plain": [
       "Markup('<div id=\"download-11-progress\" style=\"display: none;\"><div class=\"progress position-relative\" style=\"height:25px; background-color:rgb(200,200,200); margin-top:10px; margin-bottom:10px; box-shadow:0 1px 2px rbga(0,0,0,0.25) inset;\">\\n<div class=\"progress-bar\" id=\"download-11-progress-bar\" role=\"progress-bar\" style=\"transition: width .5s;\" width=\"%\">\\n<div class=\"justify-content-center d-flex position-absolute w-100 align-items-center\" id=\"download-11-progress-txt\">\\n</div>\\n</div>\\n</div></div>')"
      ]
     },
     "execution_count": 3,
     "metadata": {},
     "output_type": "execute_result"
    }
   ],
   "source": [
    "btn.render_progress()"
   ]
  },
  {
   "cell_type": "code",
   "execution_count": 8,
   "metadata": {
    "ExecuteTime": {
     "end_time": "2020-07-06T14:13:07.075701Z",
     "start_time": "2020-07-06T14:13:07.068067Z"
    }
   },
   "outputs": [
    {
     "data": {
      "text/plain": [
       "['1', '2', '3', '']"
      ]
     },
     "execution_count": 8,
     "metadata": {},
     "output_type": "execute_result"
    }
   ],
   "source": [
    "import re\n",
    "\n",
    "re.split(r'\\W+', '1 2. 3.')"
   ]
  },
  {
   "cell_type": "code",
   "execution_count": 9,
   "metadata": {
    "ExecuteTime": {
     "end_time": "2020-07-06T14:14:11.602215Z",
     "start_time": "2020-07-06T14:14:11.594829Z"
    }
   },
   "outputs": [
    {
     "data": {
      "text/plain": [
       "True"
      ]
     },
     "execution_count": 9,
     "metadata": {},
     "output_type": "execute_result"
    }
   ],
   "source": [
    "bool('0')"
   ]
  },
  {
   "cell_type": "code",
   "execution_count": 10,
   "metadata": {
    "ExecuteTime": {
     "end_time": "2020-07-06T14:14:15.997980Z",
     "start_time": "2020-07-06T14:14:15.992120Z"
    }
   },
   "outputs": [
    {
     "data": {
      "text/plain": [
       "False"
      ]
     },
     "execution_count": 10,
     "metadata": {},
     "output_type": "execute_result"
    }
   ],
   "source": [
    "bool('')"
   ]
  },
  {
   "cell_type": "code",
   "execution_count": null,
   "metadata": {},
   "outputs": [],
   "source": []
  }
 ],
 "metadata": {
  "kernelspec": {
   "display_name": "Python 3",
   "language": "python",
   "name": "python3"
  },
  "language_info": {
   "codemirror_mode": {
    "name": "ipython",
    "version": 3
   },
   "file_extension": ".py",
   "mimetype": "text/x-python",
   "name": "python",
   "nbconvert_exporter": "python",
   "pygments_lexer": "ipython3",
   "version": "3.6.8"
  },
  "toc": {
   "base_numbering": 1,
   "nav_menu": {},
   "number_sections": true,
   "sideBar": true,
   "skip_h1_title": false,
   "title_cell": "Table of Contents",
   "title_sidebar": "Contents",
   "toc_cell": false,
   "toc_position": {},
   "toc_section_display": true,
   "toc_window_display": false
  },
  "varInspector": {
   "cols": {
    "lenName": 16,
    "lenType": 16,
    "lenVar": 40
   },
   "kernels_config": {
    "python": {
     "delete_cmd_postfix": "",
     "delete_cmd_prefix": "del ",
     "library": "var_list.py",
     "varRefreshCmd": "print(var_dic_list())"
    },
    "r": {
     "delete_cmd_postfix": ") ",
     "delete_cmd_prefix": "rm(",
     "library": "var_list.r",
     "varRefreshCmd": "cat(var_dic_list()) "
    }
   },
   "types_to_exclude": [
    "module",
    "function",
    "builtin_function_or_method",
    "instance",
    "_Feature"
   ],
   "window_display": false
  }
 },
 "nbformat": 4,
 "nbformat_minor": 4
}
