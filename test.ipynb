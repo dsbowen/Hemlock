{
 "cells": [
  {
   "cell_type": "markdown",
   "metadata": {},
   "source": [
    "A good tool makes simple things easy and complex things possible.\n",
    "\n",
    "If you don't know which solution is better, start with the one that's simpler."
   ]
  },
  {
   "cell_type": "code",
   "execution_count": 1,
   "metadata": {
    "ExecuteTime": {
     "end_time": "2020-07-03T23:39:36.609210Z",
     "start_time": "2020-07-03T23:39:34.651619Z"
    },
    "scrolled": true
   },
   "outputs": [
    {
     "name": "stderr",
     "output_type": "stream",
     "text": [
      "19:39:35: Server initialized for eventlet.\n",
      "19:39:36: emitting event \"json\" to all [/participants-nsp]\n"
     ]
    },
    {
     "name": "stdout",
     "output_type": "stream",
     "text": [
      " <Branch 1>\n",
      " <Page 1> C \n",
      "\n",
      " C = current page \n",
      " T = terminal page\n",
      "\n",
      " <Branch 1>\n",
      " <Page 1>  \n",
      "     <Branch 2>\n",
      "     <Page 2> C T\n",
      "\n",
      " C = current page \n",
      " T = terminal page\n",
      "\n"
     ]
    },
    {
     "data": {
      "text/plain": [
       "<Participant 1>"
      ]
     },
     "execution_count": 1,
     "metadata": {},
     "output_type": "execute_result"
    }
   ],
   "source": [
    "from hemlock import Branch, Navigate, Page, Participant, push_app_context\n",
    "\n",
    "def start():\n",
    "    return Navigate.end(Branch([Page()]))\n",
    "    \n",
    "@Navigate.register\n",
    "def end(start_branch):\n",
    "    return Branch([Page(terminal=True)])\n",
    "    \n",
    "app = push_app_context()\n",
    "\n",
    "part = Participant.gen_test_participant(start)\n",
    "part.view_nav().forward().view_nav()"
   ]
  },
  {
   "cell_type": "code",
   "execution_count": 3,
   "metadata": {
    "ExecuteTime": {
     "end_time": "2020-07-03T23:40:17.571889Z",
     "start_time": "2020-07-03T23:40:17.564656Z"
    }
   },
   "outputs": [
    {
     "data": {
      "text/plain": [
       "['__class__',\n",
       " '__delattr__',\n",
       " '__dict__',\n",
       " '__dir__',\n",
       " '__doc__',\n",
       " '__eq__',\n",
       " '__format__',\n",
       " '__ge__',\n",
       " '__getattribute__',\n",
       " '__gt__',\n",
       " '__hash__',\n",
       " '__init__',\n",
       " '__init_subclass__',\n",
       " '__le__',\n",
       " '__lt__',\n",
       " '__module__',\n",
       " '__ne__',\n",
       " '__new__',\n",
       " '__reduce__',\n",
       " '__reduce_ex__',\n",
       " '__repr__',\n",
       " '__setattr__',\n",
       " '__sizeof__',\n",
       " '__str__',\n",
       " '__subclasshook__',\n",
       " '__weakref__',\n",
       " '_got_registered_once',\n",
       " '_static_folder',\n",
       " '_static_url_path',\n",
       " 'add_app_template_filter',\n",
       " 'add_app_template_global',\n",
       " 'add_app_template_test',\n",
       " 'add_url_rule',\n",
       " 'after_app_request',\n",
       " 'after_request',\n",
       " 'app_context_processor',\n",
       " 'app_errorhandler',\n",
       " 'app_template_filter',\n",
       " 'app_template_global',\n",
       " 'app_template_test',\n",
       " 'app_url_defaults',\n",
       " 'app_url_value_preprocessor',\n",
       " 'before_app_first_request',\n",
       " 'before_app_request',\n",
       " 'before_request',\n",
       " 'cli',\n",
       " 'cli_group',\n",
       " 'context_processor',\n",
       " 'default_route',\n",
       " 'deferred_functions',\n",
       " 'endpoint',\n",
       " 'errorhandler',\n",
       " 'get_send_file_max_age',\n",
       " 'has_static_folder',\n",
       " 'import_name',\n",
       " 'jinja_loader',\n",
       " 'json_decoder',\n",
       " 'json_encoder',\n",
       " 'make_setup_state',\n",
       " 'name',\n",
       " 'open_resource',\n",
       " 'record',\n",
       " 'record_once',\n",
       " 'register',\n",
       " 'register_error_handler',\n",
       " 'root_path',\n",
       " 'route',\n",
       " 'send_static_file',\n",
       " 'static_folder',\n",
       " 'static_url_path',\n",
       " 'subdomain',\n",
       " 'teardown_app_request',\n",
       " 'teardown_request',\n",
       " 'template_folder',\n",
       " 'url_defaults',\n",
       " 'url_prefix',\n",
       " 'url_value_preprocessor',\n",
       " 'url_values_defaults',\n",
       " 'warn_on_modifications']"
      ]
     },
     "execution_count": 3,
     "metadata": {},
     "output_type": "execute_result"
    }
   ],
   "source": [
    "dir(hlk)"
   ]
  },
  {
   "cell_type": "code",
   "execution_count": null,
   "metadata": {},
   "outputs": [],
   "source": []
  }
 ],
 "metadata": {
  "kernelspec": {
   "display_name": "Python 3",
   "language": "python",
   "name": "python3"
  },
  "language_info": {
   "codemirror_mode": {
    "name": "ipython",
    "version": 3
   },
   "file_extension": ".py",
   "mimetype": "text/x-python",
   "name": "python",
   "nbconvert_exporter": "python",
   "pygments_lexer": "ipython3",
   "version": "3.6.8"
  },
  "toc": {
   "base_numbering": 1,
   "nav_menu": {},
   "number_sections": true,
   "sideBar": true,
   "skip_h1_title": false,
   "title_cell": "Table of Contents",
   "title_sidebar": "Contents",
   "toc_cell": false,
   "toc_position": {},
   "toc_section_display": true,
   "toc_window_display": false
  },
  "varInspector": {
   "cols": {
    "lenName": 16,
    "lenType": 16,
    "lenVar": 40
   },
   "kernels_config": {
    "python": {
     "delete_cmd_postfix": "",
     "delete_cmd_prefix": "del ",
     "library": "var_list.py",
     "varRefreshCmd": "print(var_dic_list())"
    },
    "r": {
     "delete_cmd_postfix": ") ",
     "delete_cmd_prefix": "rm(",
     "library": "var_list.r",
     "varRefreshCmd": "cat(var_dic_list()) "
    }
   },
   "types_to_exclude": [
    "module",
    "function",
    "builtin_function_or_method",
    "instance",
    "_Feature"
   ],
   "window_display": false
  }
 },
 "nbformat": 4,
 "nbformat_minor": 4
}
