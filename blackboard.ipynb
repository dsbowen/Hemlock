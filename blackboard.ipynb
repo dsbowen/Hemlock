{
 "cells": [
  {
   "cell_type": "markdown",
   "metadata": {},
   "source": [
    "A good tool makes simple things easy and complex things possible.\n",
    "\n",
    "If you don't know which solution is better, start with the one that's simpler."
   ]
  },
  {
   "cell_type": "code",
   "execution_count": 1,
   "metadata": {
    "ExecuteTime": {
     "end_time": "2020-07-11T18:24:53.259144Z",
     "start_time": "2020-07-11T18:24:51.543372Z"
    }
   },
   "outputs": [],
   "source": [
    "import os\n",
    "from yaml import load, CLoader as Loader\n",
    "\n",
    "data = load(open('env/local-env.yml'), Loader=Loader)\n",
    "os.environ.update({key: str(val) for key, val in data.items()})\n",
    "\n",
    "from hemlock import push_app_context\n",
    "\n",
    "app = push_app_context()"
   ]
  },
  {
   "cell_type": "code",
   "execution_count": 2,
   "metadata": {
    "ExecuteTime": {
     "end_time": "2020-07-11T18:24:53.317616Z",
     "start_time": "2020-07-11T18:24:53.261641Z"
    }
   },
   "outputs": [],
   "source": [
    "from hemlock import Participant, Embedded\n",
    "\n",
    "part = Participant.gen_test_participant()"
   ]
  },
  {
   "cell_type": "code",
   "execution_count": 3,
   "metadata": {
    "ExecuteTime": {
     "end_time": "2020-07-11T18:24:53.365263Z",
     "start_time": "2020-07-11T18:24:53.324188Z"
    }
   },
   "outputs": [
    {
     "name": "stdout",
     "output_type": "stream",
     "text": [
      "[<Embedded 14>, <Embedded 13>]\n",
      "setting order for <Embedded 14>\n",
      "data is 0\n",
      "order is 0\n",
      "setting order for <Embedded 13>\n",
      "data is 1\n",
      "order is 1\n"
     ]
    },
    {
     "data": {
      "text/plain": [
       "{'ID': [4, 4],\n",
       " 'EndTime': [datetime.datetime(2020, 7, 11, 18, 24, 53, 263746),\n",
       "  datetime.datetime(2020, 7, 11, 18, 24, 53, 263746)],\n",
       " 'StartTime': [datetime.datetime(2020, 7, 11, 18, 24, 53, 263746),\n",
       "  datetime.datetime(2020, 7, 11, 18, 24, 53, 263746)],\n",
       " 'Status': ['InProgress', 'InProgress'],\n",
       " 'var': [1, 0],\n",
       " 'varOrder': [1, 0],\n",
       " 'varIndex': [1, 0]}"
      ]
     },
     "execution_count": 3,
     "metadata": {},
     "output_type": "execute_result"
    }
   ],
   "source": [
    "emb1 = Embedded('var', 1)\n",
    "emb0 = Embedded('var', 0)\n",
    "part.embedded = [emb0, emb1]\n",
    "dict(part.get_data())"
   ]
  },
  {
   "cell_type": "code",
   "execution_count": null,
   "metadata": {},
   "outputs": [],
   "source": []
  }
 ],
 "metadata": {
  "kernelspec": {
   "display_name": "Python 3",
   "language": "python",
   "name": "python3"
  },
  "language_info": {
   "codemirror_mode": {
    "name": "ipython",
    "version": 3
   },
   "file_extension": ".py",
   "mimetype": "text/x-python",
   "name": "python",
   "nbconvert_exporter": "python",
   "pygments_lexer": "ipython3",
   "version": "3.6.8"
  },
  "toc": {
   "base_numbering": 1,
   "nav_menu": {},
   "number_sections": true,
   "sideBar": true,
   "skip_h1_title": false,
   "title_cell": "Table of Contents",
   "title_sidebar": "Contents",
   "toc_cell": false,
   "toc_position": {},
   "toc_section_display": true,
   "toc_window_display": false
  },
  "varInspector": {
   "cols": {
    "lenName": 16,
    "lenType": 16,
    "lenVar": 40
   },
   "kernels_config": {
    "python": {
     "delete_cmd_postfix": "",
     "delete_cmd_prefix": "del ",
     "library": "var_list.py",
     "varRefreshCmd": "print(var_dic_list())"
    },
    "r": {
     "delete_cmd_postfix": ") ",
     "delete_cmd_prefix": "rm(",
     "library": "var_list.r",
     "varRefreshCmd": "cat(var_dic_list()) "
    }
   },
   "types_to_exclude": [
    "module",
    "function",
    "builtin_function_or_method",
    "instance",
    "_Feature"
   ],
   "window_display": false
  }
 },
 "nbformat": 4,
 "nbformat_minor": 4
}
