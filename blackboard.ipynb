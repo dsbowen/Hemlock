{
 "cells": [
  {
   "cell_type": "markdown",
   "metadata": {},
   "source": [
    "A good tool makes simple things easy and complex things possible.\n",
    "\n",
    "If you don't know which solution is better, start with the one that's simpler."
   ]
  },
  {
   "cell_type": "code",
   "execution_count": null,
   "metadata": {
    "ExecuteTime": {
     "end_time": "2020-07-24T21:40:26.514150Z",
     "start_time": "2020-07-24T21:40:16.833040Z"
    }
   },
   "outputs": [],
   "source": [
    "import os\n",
    "try:\n",
    "    from yaml import load, CLoader as Loader\n",
    "except:\n",
    "    from yaml import load, Loader\n",
    "\n",
    "data = load(open('env/local-env.yml'), Loader=Loader)\n",
    "os.environ.update({key: str(val) for key, val in data.items()})\n",
    "\n",
    "from hemlock import push_app_context\n",
    "\n",
    "app = push_app_context()"
   ]
  },
  {
   "cell_type": "code",
   "execution_count": 2,
   "metadata": {
    "ExecuteTime": {
     "end_time": "2020-07-24T21:42:13.729557Z",
     "start_time": "2020-07-24T21:42:13.490725Z"
    }
   },
   "outputs": [],
   "source": [
    "from hemlock import Input, Label, Page, Submit as S, Validate as V\n",
    "\n",
    "N_ROUNDS = 5\n",
    "POT = 20\n",
    "\n",
    "def gen_proposal_input(round_):\n",
    "    return Input(\n",
    "        '''\n",
    "        <p><b>Round {} of {}</b></p>\n",
    "        <p>You have ${} to split between you and the responder. How \n",
    "        much money would you like to offer to the responder?</p>\n",
    "        '''.format(round_, N_ROUNDS, POT),\n",
    "        prepend='$', append='.00', var='Proposal',\n",
    "        validate=V.range_val(0, POT),\n",
    "        submit=S.data_type(int)\n",
    "    )\n",
    "\n",
    "path = Page(gen_proposal_input(1)).preview()"
   ]
  },
  {
   "cell_type": "code",
   "execution_count": 3,
   "metadata": {
    "ExecuteTime": {
     "end_time": "2020-07-24T21:44:12.924846Z",
     "start_time": "2020-07-24T21:44:12.886848Z"
    }
   },
   "outputs": [
    {
     "data": {
      "text/plain": [
       "5"
      ]
     },
     "execution_count": 3,
     "metadata": {},
     "output_type": "execute_result"
    }
   ],
   "source": [
    "import random\n",
    "\n",
    "response_input = Input(var='Response', data=5)\n",
    "response_inputs = Input.query.filter(\n",
    "    Input.var=='Response', Input.data!=None\n",
    ").all()\n",
    "random.choice(response_inputs).data"
   ]
  },
  {
   "cell_type": "code",
   "execution_count": 4,
   "metadata": {
    "ExecuteTime": {
     "end_time": "2020-07-24T21:45:58.488345Z",
     "start_time": "2020-07-24T21:45:58.266586Z"
    }
   },
   "outputs": [
    {
     "data": {
      "text/plain": [
       "<Page 2>"
      ]
     },
     "execution_count": 4,
     "metadata": {},
     "output_type": "execute_result"
    }
   ],
   "source": [
    "from hemlock import Compile as C, Embedded\n",
    "\n",
    "from random import randint\n",
    "\n",
    "@C.register\n",
    "def proposer_outcome(outcome_label, proposal_input):\n",
    "    # get the proposal\n",
    "    proposal = POT-proposal_input.data, proposal_input.data\n",
    "    # get all responses\n",
    "    response_inputs = Input.query.filter(\n",
    "        Input.var=='Response', Input.data!=None\n",
    "    ).all()\n",
    "    if response_inputs:\n",
    "        # randomly choose a response\n",
    "        response = random.choice(response_inputs).data\n",
    "    else:\n",
    "        # no responses are available\n",
    "        # e.g. if this is the first participant\n",
    "        response = randint(0, POT)\n",
    "    # compute the payoff\n",
    "    accept = response <= proposal[1]\n",
    "    payoff = proposal if accept else (0, 0)\n",
    "    # record results as embedded data\n",
    "    outcome_label.page.embedded = [\n",
    "        Embedded('Response', response),\n",
    "        Embedded('Accept', int(accept)),\n",
    "        Embedded('ProposerPayoff', payoff[0]),\n",
    "        Embedded('ResponderPayoff', payoff[1])\n",
    "    ]\n",
    "    # describe the outcome of the round\n",
    "    outcome_label.label = '''\n",
    "        <p>You proposed the following split:</p>\n",
    "        <ul>\n",
    "            <li>You: ${}</li>\n",
    "            <li>Responder: ${}</li>\n",
    "        </ul>\n",
    "        <p>The responder said they will accept any proposal which gives\n",
    "        them at least ${}.</p>\n",
    "        <p><b>Your proposal was {}, giving you a payoff of ${}.</b></p>\n",
    "    '''.format(\n",
    "        *proposal, response, 'accepted' if accept else 'rejected', payoff[0]\n",
    "    )\n",
    "\n",
    "proposal_outcome_page = Page(\n",
    "    Label(\n",
    "        compile=C.proposer_outcome(Input(data=10))\n",
    "    )\n",
    ")\n",
    "proposal_outcome_page._compile().preview()"
   ]
  },
  {
   "cell_type": "code",
   "execution_count": 5,
   "metadata": {
    "ExecuteTime": {
     "end_time": "2020-07-24T21:47:51.289874Z",
     "start_time": "2020-07-24T21:47:51.281985Z"
    }
   },
   "outputs": [
    {
     "data": {
      "text/plain": [
       "[('Response', 5),\n",
       " ('Accept', 1),\n",
       " ('ProposerPayoff', 10),\n",
       " ('ResponderPayoff', 10)]"
      ]
     },
     "execution_count": 5,
     "metadata": {},
     "output_type": "execute_result"
    }
   ],
   "source": [
    "[(e.var, e.data) for e in proposal_outcome_page.embedded]"
   ]
  },
  {
   "cell_type": "code",
   "execution_count": 6,
   "metadata": {
    "ExecuteTime": {
     "end_time": "2020-07-24T21:47:59.856843Z",
     "start_time": "2020-07-24T21:47:59.849046Z"
    }
   },
   "outputs": [
    {
     "data": {
      "text/plain": [
       "[None, None]"
      ]
     },
     "execution_count": 6,
     "metadata": {},
     "output_type": "execute_result"
    }
   ],
   "source": [
    "[os.remove(tmpfile) for tmpfile in app.tmpfiles]"
   ]
  },
  {
   "cell_type": "code",
   "execution_count": null,
   "metadata": {},
   "outputs": [],
   "source": []
  }
 ],
 "metadata": {
  "kernelspec": {
   "display_name": "Python 3",
   "language": "python",
   "name": "python3"
  },
  "toc": {
   "base_numbering": 1,
   "nav_menu": {},
   "number_sections": true,
   "sideBar": true,
   "skip_h1_title": false,
   "title_cell": "Table of Contents",
   "title_sidebar": "Contents",
   "toc_cell": false,
   "toc_position": {},
   "toc_section_display": true,
   "toc_window_display": false
  },
  "varInspector": {
   "cols": {
    "lenName": 16,
    "lenType": 16,
    "lenVar": 40
   },
   "kernels_config": {
    "python": {
     "delete_cmd_postfix": "",
     "delete_cmd_prefix": "del ",
     "library": "var_list.py",
     "varRefreshCmd": "print(var_dic_list())"
    },
    "r": {
     "delete_cmd_postfix": ") ",
     "delete_cmd_prefix": "rm(",
     "library": "var_list.r",
     "varRefreshCmd": "cat(var_dic_list()) "
    }
   },
   "types_to_exclude": [
    "module",
    "function",
    "builtin_function_or_method",
    "instance",
    "_Feature"
   ],
   "window_display": false
  }
 },
 "nbformat": 4,
 "nbformat_minor": 4
}
