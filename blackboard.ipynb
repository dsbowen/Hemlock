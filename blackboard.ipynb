{
 "cells": [
  {
   "cell_type": "markdown",
   "metadata": {},
   "source": [
    "A good tool makes simple things easy and complex things possible.\n",
    "\n",
    "If you don't know which solution is better, start with the one that's simpler."
   ]
  },
  {
   "cell_type": "code",
   "execution_count": null,
   "metadata": {
    "ExecuteTime": {
     "end_time": "2020-07-23T15:09:05.060598Z",
     "start_time": "2020-07-23T15:09:03.568040Z"
    }
   },
   "outputs": [],
   "source": [
    "import os\n",
    "try:\n",
    "    from yaml import load, CLoader as Loader\n",
    "except:\n",
    "    from yaml import load, Loader\n",
    "\n",
    "data = load(open('env/local-env.yml'), Loader=Loader)\n",
    "os.environ.update({key: str(val) for key, val in data.items()})\n",
    "\n",
    "from hemlock import push_app_context\n",
    "\n",
    "app = push_app_context()"
   ]
  },
  {
   "cell_type": "code",
   "execution_count": 23,
   "metadata": {
    "ExecuteTime": {
     "end_time": "2020-07-23T20:01:06.744277Z",
     "start_time": "2020-07-23T20:01:02.858674Z"
    }
   },
   "outputs": [
    {
     "data": {
      "text/plain": [
       "<Page 10>"
      ]
     },
     "execution_count": 23,
     "metadata": {},
     "output_type": "execute_result"
    }
   ],
   "source": [
    "from hemlock import Check, Debug as D, Page, push_app_context\n",
    "from hemlock.tools import chromedriver\n",
    "\n",
    "app = push_app_context()\n",
    "\n",
    "driver = chromedriver()\n",
    "\n",
    "p = Page(\n",
    "    Check(\n",
    "        '<p>Click \"Yes\".</p>', \n",
    "        ['Yes', 'No'], \n",
    "        multiple=True,\n",
    "        debug=D.clear_choices()\n",
    "    )\n",
    ")\n",
    "p.debug.pop()\n",
    "p.preview(driver)._debug(driver)"
   ]
  },
  {
   "cell_type": "code",
   "execution_count": 24,
   "metadata": {
    "ExecuteTime": {
     "end_time": "2020-07-23T20:01:12.287189Z",
     "start_time": "2020-07-23T20:01:11.976096Z"
    }
   },
   "outputs": [
    {
     "data": {
      "text/plain": [
       "[None]"
      ]
     },
     "execution_count": 24,
     "metadata": {},
     "output_type": "execute_result"
    }
   ],
   "source": [
    "import os\n",
    "driver.close()\n",
    "[os.remove(tmpfile) for tmpfile in app.tmpfiles]"
   ]
  },
  {
   "cell_type": "code",
   "execution_count": null,
   "metadata": {},
   "outputs": [],
   "source": []
  }
 ],
 "metadata": {
  "kernelspec": {
   "display_name": "Python 3",
   "language": "python",
   "name": "python3"
  },
  "language_info": {
   "codemirror_mode": {
    "name": "ipython",
    "version": 3
   },
   "file_extension": ".py",
   "mimetype": "text/x-python",
   "name": "python",
   "nbconvert_exporter": "python",
   "pygments_lexer": "ipython3",
   "version": "3.6.8"
  },
  "toc": {
   "base_numbering": 1,
   "nav_menu": {},
   "number_sections": true,
   "sideBar": true,
   "skip_h1_title": false,
   "title_cell": "Table of Contents",
   "title_sidebar": "Contents",
   "toc_cell": false,
   "toc_position": {},
   "toc_section_display": true,
   "toc_window_display": false
  },
  "varInspector": {
   "cols": {
    "lenName": 16,
    "lenType": 16,
    "lenVar": 40
   },
   "kernels_config": {
    "python": {
     "delete_cmd_postfix": "",
     "delete_cmd_prefix": "del ",
     "library": "var_list.py",
     "varRefreshCmd": "print(var_dic_list())"
    },
    "r": {
     "delete_cmd_postfix": ") ",
     "delete_cmd_prefix": "rm(",
     "library": "var_list.r",
     "varRefreshCmd": "cat(var_dic_list()) "
    }
   },
   "types_to_exclude": [
    "module",
    "function",
    "builtin_function_or_method",
    "instance",
    "_Feature"
   ],
   "window_display": false
  }
 },
 "nbformat": 4,
 "nbformat_minor": 4
}
